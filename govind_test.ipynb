{
 "cells": [
  {
   "cell_type": "raw",
   "metadata": {},
   "source": [
    "\n",
    "\n",
    "\n",
    "QUESTION-01\n",
    "Replace the digits in the string with #\n",
    "Consider a string that will have digits in that, we need to remove all the characters which are not digits and replace the digits with #\n",
    "\n",
    "Ex 1: A = 234                Output: ###\n",
    "Ex 2: A = a2b3c4             Output: ###\n",
    "Ex 3: A = abc                Output:   (empty string)\n",
    "Ex 5: A = #2a$#b%c%561#      Output: "
   ]
  },
  {
   "cell_type": "code",
   "execution_count": null,
   "metadata": {},
   "outputs": [],
   "source": []
  },
  {
   "cell_type": "code",
   "execution_count": 2,
   "metadata": {},
   "outputs": [
    {
     "name": "stdout",
     "output_type": "stream",
     "text": [
      "####\n"
     ]
    }
   ],
   "source": [
    "import re\n",
    "string = \"#2a$#b%c%561#\"\n",
    "s2 = re.sub('\\W','',string)\n",
    "s2 = re.sub('[a-z]','',s2)\n",
    "s2 = re.sub('[0-9]','#',s2)\n",
    "\n",
    "print(s2)\n"
   ]
  },
  {
   "cell_type": "raw",
   "metadata": {},
   "source": [
    "QUESTION-02\n",
    "Operations on sentences \n",
    "You will be given two sentences S1, S2 your task is to find\n",
    "\n",
    "a. Number of common words between S1, S2\n",
    "b. Words in S1 but not in S2\n",
    "c. Words in S2 but not in S1\n",
    "Ex:\n",
    "\n",
    "S1= \"the first column F will contain only 5 unique values\"\n",
    "S2= \"the second column S will contain only 3 unique values\"\n",
    "Output:\n",
    "a. 7\n",
    "b. ['first','F','5']\n",
    "c. ['second','S','3']"
   ]
  },
  {
   "cell_type": "code",
   "execution_count": 8,
   "metadata": {},
   "outputs": [
    {
     "name": "stdout",
     "output_type": "stream",
     "text": [
      "7\n",
      "['first', 'F', '5']\n",
      "['second', 'S', '3']\n"
     ]
    }
   ],
   "source": [
    "S1 = \"the first column F will contain only 5 unique values\"\n",
    "S2 = \"the second column S will contain only 3 unique values\"\n",
    "\n",
    "s1=S1.split()\n",
    "s2=S2.split()\n",
    "print(len([i for i in s2 if i in s1]))\n",
    "print(([i for i in s1 if i not in s2]))\n",
    "print(([i for i in s2 if i not in s1]))"
   ]
  },
  {
   "cell_type": "raw",
   "metadata": {},
   "source": [
    "#pandas Questions\n",
    "Consider the following Python dictionary data and Python list labels:\n",
    "\n",
    "data = {'birds': ['Cranes', 'Cranes', 'plovers', 'spoonbills', 'spoonbills', 'Cranes', 'plovers', 'Cranes', 'spoonbills', 'spoonbills'], 'age': [3.5, 4, 1.5, np.nan, 6, 3, 5.5, np.nan, 8, 4], 'visits': [2, 4, 3, 4, 3, 4, 2, 2, 3, 2], 'priority': ['yes', 'yes', 'no', 'yes', 'no', 'no', 'no', 'yes', 'no', 'no']}\n",
    "\n",
    "labels = ['a', 'b', 'c', 'd', 'e', 'f', 'g', 'h', 'i', 'j']"
   ]
  },
  {
   "cell_type": "raw",
   "metadata": {},
   "source": [
    "QUESTION-03 \n",
    "Create a DataFrame birds from this dictionary data which has the index \"labels\"."
   ]
  },
  {
   "cell_type": "code",
   "execution_count": 9,
   "metadata": {},
   "outputs": [
    {
     "name": "stdout",
     "output_type": "stream",
     "text": [
      "        birds  age  visits priority\n",
      "a      Cranes  3.5       2      yes\n",
      "b      Cranes  4.0       4      yes\n",
      "c     plovers  1.5       3       no\n",
      "d  spoonbills  NaN       4      yes\n",
      "e  spoonbills  6.0       3       no\n",
      "f      Cranes  3.0       4       no\n",
      "g     plovers  5.5       2       no\n",
      "h      Cranes  NaN       2      yes\n",
      "i  spoonbills  8.0       3       no\n",
      "j  spoonbills  4.0       2       no\n"
     ]
    }
   ],
   "source": [
    "import pandas as pd\n",
    "import numpy as np\n",
    "data = {'birds': ['Cranes', 'Cranes', 'plovers', 'spoonbills', 'spoonbills', 'Cranes', 'plovers', 'Cranes', 'spoonbills', 'spoonbills'], 'age': [3.5, 4, 1.5, np.nan, 6, 3, 5.5, np.nan, 8, 4], 'visits': [2, 4, 3, 4, 3, 4, 2, 2, 3, 2], 'priority': ['yes', 'yes', 'no', 'yes', 'no', 'no', 'no', 'yes', 'no', 'no']}\n",
    "\n",
    "labels = ['a', 'b', 'c', 'd', 'e', 'f', 'g', 'h', 'i', 'j']\n",
    "\n",
    "data=pd.DataFrame.from_dict(data)\n",
    "data.index=labels\n",
    "print(data)\n"
   ]
  },
  {
   "cell_type": "raw",
   "metadata": {},
   "source": [
    "QUESTION-04\n",
    "Display a summary of the basic information about birds DataFrame and its data."
   ]
  },
  {
   "cell_type": "code",
   "execution_count": 10,
   "metadata": {},
   "outputs": [
    {
     "name": "stdout",
     "output_type": "stream",
     "text": [
      "count         10\n",
      "unique         3\n",
      "top       Cranes\n",
      "freq           4\n",
      "Name: birds, dtype: object\n"
     ]
    }
   ],
   "source": [
    "print(data['birds'].describe())"
   ]
  },
  {
   "cell_type": "raw",
   "metadata": {},
   "source": [
    "QUESTION-05\n",
    "Print all the rows with only 'birds' and 'age' columns from the dataframe"
   ]
  },
  {
   "cell_type": "code",
   "execution_count": 11,
   "metadata": {},
   "outputs": [
    {
     "name": "stdout",
     "output_type": "stream",
     "text": [
      "        birds  age\n",
      "a      Cranes  3.5\n",
      "b      Cranes  4.0\n",
      "c     plovers  1.5\n",
      "d  spoonbills  NaN\n",
      "e  spoonbills  6.0\n",
      "f      Cranes  3.0\n",
      "g     plovers  5.5\n",
      "h      Cranes  NaN\n",
      "i  spoonbills  8.0\n",
      "j  spoonbills  4.0\n"
     ]
    }
   ],
   "source": [
    "print(data[['birds', 'age']]) "
   ]
  },
  {
   "cell_type": "code",
   "execution_count": 12,
   "metadata": {},
   "outputs": [],
   "source": [
    "#Questions related to data1.csv"
   ]
  },
  {
   "cell_type": "raw",
   "metadata": {},
   "source": [
    "QUESTION-06\n",
    "Load data1.csv into a pandas dataFrame.\n",
    "#write your code in the cell below\n",
    "\n",
    "\n"
   ]
  },
  {
   "cell_type": "code",
   "execution_count": 13,
   "metadata": {},
   "outputs": [],
   "source": [
    "data1 = pd.read_csv(\"data1.csv\")"
   ]
  },
  {
   "cell_type": "raw",
   "metadata": {},
   "source": [
    "QUESTION-07\n",
    "how many data-points and features?\n",
    "#write your code in the cell below"
   ]
  },
  {
   "cell_type": "code",
   "execution_count": 14,
   "metadata": {},
   "outputs": [
    {
     "name": "stdout",
     "output_type": "stream",
     "text": [
      "(306, 4)\n",
      "age       306\n",
      "year      306\n",
      "nodes     306\n",
      "status    306\n",
      "dtype: int64\n",
      "0      4\n",
      "1      4\n",
      "2      4\n",
      "3      4\n",
      "4      4\n",
      "5      4\n",
      "6      4\n",
      "7      4\n",
      "8      4\n",
      "9      4\n",
      "10     4\n",
      "11     4\n",
      "12     4\n",
      "13     4\n",
      "14     4\n",
      "15     4\n",
      "16     4\n",
      "17     4\n",
      "18     4\n",
      "19     4\n",
      "20     4\n",
      "21     4\n",
      "22     4\n",
      "23     4\n",
      "24     4\n",
      "25     4\n",
      "26     4\n",
      "27     4\n",
      "28     4\n",
      "29     4\n",
      "      ..\n",
      "276    4\n",
      "277    4\n",
      "278    4\n",
      "279    4\n",
      "280    4\n",
      "281    4\n",
      "282    4\n",
      "283    4\n",
      "284    4\n",
      "285    4\n",
      "286    4\n",
      "287    4\n",
      "288    4\n",
      "289    4\n",
      "290    4\n",
      "291    4\n",
      "292    4\n",
      "293    4\n",
      "294    4\n",
      "295    4\n",
      "296    4\n",
      "297    4\n",
      "298    4\n",
      "299    4\n",
      "300    4\n",
      "301    4\n",
      "302    4\n",
      "303    4\n",
      "304    4\n",
      "305    4\n",
      "Length: 306, dtype: int64\n"
     ]
    }
   ],
   "source": [
    "#number of features\n",
    "print(data1.shape)\n",
    "# number of data-points(i have confusion regarding this data-points)\n",
    "print(data1.count(axis=0))\n",
    "print(data1.count(axis=1))\n"
   ]
  },
  {
   "cell_type": "raw",
   "metadata": {},
   "source": [
    "QUESTION-08\n",
    "What are the column names in our dataset?\n",
    "#write your code in the cell below"
   ]
  },
  {
   "cell_type": "code",
   "execution_count": 15,
   "metadata": {},
   "outputs": [
    {
     "name": "stdout",
     "output_type": "stream",
     "text": [
      "age\n",
      "year\n",
      "nodes\n",
      "status\n"
     ]
    }
   ],
   "source": [
    "for col in data1.columns:\n",
    "    print(col)"
   ]
  },
  {
   "cell_type": "raw",
   "metadata": {},
   "source": [
    "QUESTION-09\n",
    "plot a 2-D Scatter plot for \"age\" and \"year\",  with color-coding for each class.\n",
    "#dataset class  is \"status\" column in the data1.csv\n",
    "#write your code in the cell below\n",
    "\n",
    "\n",
    "\n"
   ]
  },
  {
   "cell_type": "code",
   "execution_count": 16,
   "metadata": {},
   "outputs": [
    {
     "data": {
      "image/png": "[encoded data removed]",
      "text/plain": [
       "<Figure size 432x288 with 1 Axes>"
      ]
     },
     "metadata": {
      "needs_background": "light"
     },
     "output_type": "display_data"
    }
   ],
   "source": [
    "\n",
    "import matplotlib.pyplot as plt\n",
    "data1.plot(kind='scatter',x='year',y='age',color='red')\n",
    "plt.show()"
   ]
  },
  {
   "cell_type": "raw",
   "metadata": {},
   "source": [
    "QUESTION-10\n",
    "plot a pairwise scatter plot: Pair-Plot for data1.csv\n",
    "##dataset class  is \"status\" column in the data1.csv\n",
    "#write your code in the cell below\n",
    "\n",
    "\n"
   ]
  },
  {
   "cell_type": "code",
   "execution_count": 17,
   "metadata": {},
   "outputs": [
    {
     "data": {
      "text/plain": [
       "<seaborn.axisgrid.PairGrid at 0x1fa8867d5c0>"
      ]
     },
     "execution_count": 17,
     "metadata": {},
     "output_type": "execute_result"
    },
    {
     "data": {
      "image/png": "[encoded data removed]",
      "text/plain": [
       "<Figure size 720x720 with 20 Axes>"
      ]
     },
     "metadata": {
      "needs_background": "light"
     },
     "output_type": "display_data"
    }
   ],
   "source": [
    "\n",
    "import seaborn as sns\n",
    "sns.pairplot(data1)"
   ]
  },
  {
   "cell_type": "raw",
   "metadata": {},
   "source": [
    "QUESTION-11 \n",
    "    (1) load data1.csv\n",
    "#   (2) decide the deep learning model which can classify data1.csv \n",
    "#   (3) classify using tensorflow or keras\n",
    "#Note: dataset class  is \"status\" column in the data1.csv\n",
    "\n",
    "#write your code in the cell below\n",
    "\n",
    "\n",
    "\n",
    "\n",
    "\n"
   ]
  },
  {
   "cell_type": "code",
   "execution_count": 18,
   "metadata": {},
   "outputs": [
    {
     "name": "stderr",
     "output_type": "stream",
     "text": [
      "C:\\ProgramData\\Anaconda3\\lib\\site-packages\\ipykernel_launcher.py:28: UserWarning: Update your `Dense` call to the Keras 2 API: `Dense(activation=\"relu\", input_dim=3, units=6)`\n",
      "C:\\ProgramData\\Anaconda3\\lib\\site-packages\\ipykernel_launcher.py:29: UserWarning: Update your `Dense` call to the Keras 2 API: `Dense(activation=\"relu\", units=6)`\n",
      "C:\\ProgramData\\Anaconda3\\lib\\site-packages\\ipykernel_launcher.py:30: UserWarning: Update your `Dense` call to the Keras 2 API: `Dense(activation=\"sigmoid\", units=1)`\n",
      "C:\\ProgramData\\Anaconda3\\lib\\site-packages\\ipykernel_launcher.py:32: UserWarning: The `nb_epoch` argument in `fit` has been renamed `epochs`.\n"
     ]
    },
    {
     "name": "stdout",
     "output_type": "stream",
     "text": [
      "Train on 153 samples, validate on 76 samples\n",
      "Epoch 1/100\n",
      "153/153 [==============================] - 4s 24ms/step - loss: 0.5964 - acc: 0.5817 - val_loss: 0.5646 - val_acc: 0.5921\n",
      "Epoch 2/100\n",
      "153/153 [==============================] - 0s 1ms/step - loss: 0.5441 - acc: 0.7190 - val_loss: 0.5125 - val_acc: 0.6711\n",
      "Epoch 3/100\n",
      "153/153 [==============================] - 0s 422us/step - loss: 0.4964 - acc: 0.7582 - val_loss: 0.4643 - val_acc: 0.7237\n",
      "Epoch 4/100\n",
      "153/153 [==============================] - 0s 992us/step - loss: 0.4540 - acc: 0.7582 - val_loss: 0.4182 - val_acc: 0.7237\n",
      "Epoch 5/100\n",
      "153/153 [==============================] - 0s 899us/step - loss: 0.4102 - acc: 0.7582 - val_loss: 0.3726 - val_acc: 0.7237\n",
      "Epoch 6/100\n",
      "153/153 [==============================] - 0s 447us/step - loss: 0.3672 - acc: 0.7582 - val_loss: 0.3260 - val_acc: 0.7237\n",
      "Epoch 7/100\n",
      "153/153 [==============================] - 0s 458us/step - loss: 0.3239 - acc: 0.7582 - val_loss: 0.2801 - val_acc: 0.7237\n",
      "Epoch 8/100\n",
      "153/153 [==============================] - 0s 819us/step - loss: 0.2792 - acc: 0.7582 - val_loss: 0.2313 - val_acc: 0.7237\n",
      "Epoch 9/100\n",
      "153/153 [==============================] - 0s 706us/step - loss: 0.2339 - acc: 0.7582 - val_loss: 0.1840 - val_acc: 0.7237\n",
      "Epoch 10/100\n",
      "153/153 [==============================] - 0s 532us/step - loss: 0.1887 - acc: 0.7582 - val_loss: 0.1335 - val_acc: 0.7237\n",
      "Epoch 11/100\n",
      "153/153 [==============================] - 0s 759us/step - loss: 0.1400 - acc: 0.7582 - val_loss: 0.0819 - val_acc: 0.7237\n",
      "Epoch 12/100\n",
      "153/153 [==============================] - 0s 290us/step - loss: 0.0894 - acc: 0.7582 - val_loss: 0.0286 - val_acc: 0.7237\n",
      "Epoch 13/100\n",
      "153/153 [==============================] - 0s 392us/step - loss: 0.0381 - acc: 0.7582 - val_loss: -0.0266 - val_acc: 0.7237\n",
      "Epoch 14/100\n",
      "153/153 [==============================] - 0s 417us/step - loss: -0.0133 - acc: 0.7582 - val_loss: -0.0836 - val_acc: 0.7237\n",
      "Epoch 15/100\n",
      "153/153 [==============================] - 0s 375us/step - loss: -0.0661 - acc: 0.7582 - val_loss: -0.1414 - val_acc: 0.7237\n",
      "Epoch 16/100\n",
      "153/153 [==============================] - 0s 422us/step - loss: -0.1219 - acc: 0.7582 - val_loss: -0.1984 - val_acc: 0.7237\n",
      "Epoch 17/100\n",
      "153/153 [==============================] - 0s 279us/step - loss: -0.1744 - acc: 0.7582 - val_loss: -0.2579 - val_acc: 0.7237\n",
      "Epoch 18/100\n",
      "153/153 [==============================] - 0s 476us/step - loss: -0.2295 - acc: 0.7582 - val_loss: -0.3142 - val_acc: 0.7237\n",
      "Epoch 19/100\n",
      "153/153 [==============================] - 0s 506us/step - loss: -0.2798 - acc: 0.7582 - val_loss: -0.3705 - val_acc: 0.7237\n",
      "Epoch 20/100\n",
      "153/153 [==============================] - 0s 388us/step - loss: -0.3317 - acc: 0.7582 - val_loss: -0.4243 - val_acc: 0.7237\n",
      "Epoch 21/100\n",
      "153/153 [==============================] - 0s 349us/step - loss: -0.3830 - acc: 0.7582 - val_loss: -0.4811 - val_acc: 0.7237\n",
      "Epoch 22/100\n",
      "153/153 [==============================] - 0s 419us/step - loss: -0.4356 - acc: 0.7582 - val_loss: -0.5364 - val_acc: 0.7237\n",
      "Epoch 23/100\n",
      "153/153 [==============================] - 0s 367us/step - loss: -0.4879 - acc: 0.7582 - val_loss: -0.5966 - val_acc: 0.7237\n",
      "Epoch 24/100\n",
      "153/153 [==============================] - 0s 433us/step - loss: -0.5420 - acc: 0.7582 - val_loss: -0.6559 - val_acc: 0.7237\n",
      "Epoch 25/100\n",
      "153/153 [==============================] - 0s 314us/step - loss: -0.5978 - acc: 0.7582 - val_loss: -0.7165 - val_acc: 0.7237\n",
      "Epoch 26/100\n",
      "153/153 [==============================] - 0s 356us/step - loss: -0.6512 - acc: 0.7582 - val_loss: -0.7804 - val_acc: 0.7237\n",
      "Epoch 27/100\n",
      "153/153 [==============================] - 0s 325us/step - loss: -0.7121 - acc: 0.7582 - val_loss: -0.8338 - val_acc: 0.7237\n",
      "Epoch 28/100\n",
      "153/153 [==============================] - 0s 452us/step - loss: -0.7608 - acc: 0.7582 - val_loss: -0.8924 - val_acc: 0.7237\n",
      "Epoch 29/100\n",
      "153/153 [==============================] - 0s 305us/step - loss: -0.8121 - acc: 0.7582 - val_loss: -0.9534 - val_acc: 0.7237\n",
      "Epoch 30/100\n",
      "153/153 [==============================] - 0s 339us/step - loss: -0.8667 - acc: 0.7582 - val_loss: -1.0103 - val_acc: 0.7237\n",
      "Epoch 31/100\n",
      "153/153 [==============================] - 0s 412us/step - loss: -0.9165 - acc: 0.7582 - val_loss: -1.0671 - val_acc: 0.7237\n",
      "Epoch 32/100\n",
      "153/153 [==============================] - 0s 542us/step - loss: -0.9692 - acc: 0.7582 - val_loss: -1.1249 - val_acc: 0.7237\n",
      "Epoch 33/100\n",
      "153/153 [==============================] - 0s 410us/step - loss: -1.0220 - acc: 0.7582 - val_loss: -1.1874 - val_acc: 0.7237\n",
      "Epoch 34/100\n",
      "153/153 [==============================] - 0s 310us/step - loss: -1.0796 - acc: 0.7582 - val_loss: -1.2542 - val_acc: 0.7237\n",
      "Epoch 35/100\n",
      "153/153 [==============================] - 0s 358us/step - loss: -1.1409 - acc: 0.7582 - val_loss: -1.3193 - val_acc: 0.7237\n",
      "Epoch 36/100\n",
      "153/153 [==============================] - 0s 275us/step - loss: -1.1998 - acc: 0.7582 - val_loss: -1.3932 - val_acc: 0.7237\n",
      "Epoch 37/100\n",
      "153/153 [==============================] - 0s 547us/step - loss: -1.2663 - acc: 0.7582 - val_loss: -1.4643 - val_acc: 0.7237\n",
      "Epoch 38/100\n",
      "153/153 [==============================] - 0s 363us/step - loss: -1.3232 - acc: 0.7582 - val_loss: -1.5249 - val_acc: 0.7237\n",
      "Epoch 39/100\n",
      "153/153 [==============================] - 0s 498us/step - loss: -1.3804 - acc: 0.7582 - val_loss: -1.5801 - val_acc: 0.7237\n",
      "Epoch 40/100\n",
      "153/153 [==============================] - 0s 436us/step - loss: -1.4232 - acc: 0.7582 - val_loss: -1.6386 - val_acc: 0.7237\n",
      "Epoch 41/100\n",
      "153/153 [==============================] - 0s 553us/step - loss: -1.4720 - acc: 0.7582 - val_loss: -1.6967 - val_acc: 0.7237\n",
      "Epoch 42/100\n",
      "153/153 [==============================] - 0s 517us/step - loss: -1.5205 - acc: 0.7582 - val_loss: -1.7596 - val_acc: 0.7237\n",
      "Epoch 43/100\n",
      "153/153 [==============================] - 0s 372us/step - loss: -1.5733 - acc: 0.7582 - val_loss: -1.8173 - val_acc: 0.7237\n",
      "Epoch 44/100\n",
      "153/153 [==============================] - 0s 372us/step - loss: -1.6227 - acc: 0.7582 - val_loss: -1.8790 - val_acc: 0.7237\n",
      "Epoch 45/100\n",
      "153/153 [==============================] - 0s 549us/step - loss: -1.6753 - acc: 0.7582 - val_loss: -1.9456 - val_acc: 0.7237\n",
      "Epoch 46/100\n",
      "153/153 [==============================] - 0s 411us/step - loss: -1.7344 - acc: 0.7582 - val_loss: -2.0146 - val_acc: 0.7237\n",
      "Epoch 47/100\n",
      "153/153 [==============================] - 0s 404us/step - loss: -1.7902 - acc: 0.7582 - val_loss: -2.0912 - val_acc: 0.7237\n",
      "Epoch 48/100\n",
      "153/153 [==============================] - 0s 340us/step - loss: -1.8537 - acc: 0.7582 - val_loss: -2.1655 - val_acc: 0.7237\n",
      "Epoch 49/100\n",
      "153/153 [==============================] - 0s 403us/step - loss: -1.9176 - acc: 0.7582 - val_loss: -2.2336 - val_acc: 0.7237\n",
      "Epoch 50/100\n",
      "153/153 [==============================] - 0s 263us/step - loss: -1.9792 - acc: 0.7582 - val_loss: -2.3217 - val_acc: 0.7237\n",
      "Epoch 51/100\n",
      "153/153 [==============================] - 0s 252us/step - loss: -2.0487 - acc: 0.7582 - val_loss: -2.4091 - val_acc: 0.7237\n",
      "Epoch 52/100\n",
      "153/153 [==============================] - 0s 319us/step - loss: -2.1059 - acc: 0.7582 - val_loss: -2.4899 - val_acc: 0.7237\n",
      "Epoch 53/100\n",
      "153/153 [==============================] - 0s 300us/step - loss: -2.1651 - acc: 0.7582 - val_loss: -2.5582 - val_acc: 0.7237\n",
      "Epoch 54/100\n",
      "153/153 [==============================] - 0s 312us/step - loss: -2.2176 - acc: 0.7582 - val_loss: -2.6346 - val_acc: 0.7237\n",
      "Epoch 55/100\n",
      "153/153 [==============================] - 0s 330us/step - loss: -2.2681 - acc: 0.7582 - val_loss: -2.6918 - val_acc: 0.7237\n",
      "Epoch 56/100\n",
      "153/153 [==============================] - 0s 333us/step - loss: -2.3134 - acc: 0.7582 - val_loss: -2.7629 - val_acc: 0.7237\n",
      "Epoch 57/100\n",
      "153/153 [==============================] - 0s 325us/step - loss: -2.3571 - acc: 0.7582 - val_loss: -2.8153 - val_acc: 0.7237\n",
      "Epoch 58/100\n",
      "153/153 [==============================] - 0s 300us/step - loss: -2.4051 - acc: 0.7582 - val_loss: -2.8677 - val_acc: 0.7237\n",
      "Epoch 59/100\n",
      "153/153 [==============================] - 0s 335us/step - loss: -2.4501 - acc: 0.7582 - val_loss: -2.9181 - val_acc: 0.7237\n",
      "Epoch 60/100\n",
      "153/153 [==============================] - 0s 308us/step - loss: -2.5012 - acc: 0.7582 - val_loss: -2.9798 - val_acc: 0.7237\n",
      "Epoch 61/100\n",
      "153/153 [==============================] - 0s 334us/step - loss: -2.5530 - acc: 0.7582 - val_loss: -3.0378 - val_acc: 0.7237\n",
      "Epoch 62/100\n",
      "153/153 [==============================] - 0s 341us/step - loss: -2.6013 - acc: 0.7582 - val_loss: -3.1062 - val_acc: 0.7237\n",
      "Epoch 63/100\n",
      "153/153 [==============================] - 0s 233us/step - loss: -2.6517 - acc: 0.7582 - val_loss: -3.1641 - val_acc: 0.7237\n",
      "Epoch 64/100\n",
      "153/153 [==============================] - 0s 339us/step - loss: -2.6983 - acc: 0.7582 - val_loss: -3.2198 - val_acc: 0.7237\n",
      "Epoch 65/100\n",
      "153/153 [==============================] - 0s 299us/step - loss: -2.7479 - acc: 0.7582 - val_loss: -3.2861 - val_acc: 0.7237\n",
      "Epoch 66/100\n",
      "153/153 [==============================] - 0s 274us/step - loss: -2.7936 - acc: 0.7582 - val_loss: -3.3336 - val_acc: 0.7237\n",
      "Epoch 67/100\n",
      "153/153 [==============================] - 0s 247us/step - loss: -2.8418 - acc: 0.7582 - val_loss: -3.3834 - val_acc: 0.7237\n",
      "Epoch 68/100\n",
      "153/153 [==============================] - 0s 317us/step - loss: -2.8924 - acc: 0.7582 - val_loss: -3.4372 - val_acc: 0.7237\n",
      "Epoch 69/100\n",
      "153/153 [==============================] - 0s 306us/step - loss: -2.9474 - acc: 0.7582 - val_loss: -3.4871 - val_acc: 0.7237\n",
      "Epoch 70/100\n",
      "153/153 [==============================] - 0s 305us/step - loss: -2.9839 - acc: 0.7582 - val_loss: -3.5401 - val_acc: 0.7237\n",
      "Epoch 71/100\n",
      "153/153 [==============================] - 0s 263us/step - loss: -3.0370 - acc: 0.7582 - val_loss: -3.5964 - val_acc: 0.7237\n",
      "Epoch 72/100\n",
      "153/153 [==============================] - 0s 328us/step - loss: -3.0766 - acc: 0.7582 - val_loss: -3.6490 - val_acc: 0.7237\n",
      "Epoch 73/100\n",
      "153/153 [==============================] - 0s 336us/step - loss: -3.1312 - acc: 0.7582 - val_loss: -3.7070 - val_acc: 0.7237\n",
      "Epoch 74/100\n",
      "153/153 [==============================] - 0s 245us/step - loss: -3.1782 - acc: 0.7582 - val_loss: -3.7560 - val_acc: 0.7237\n",
      "Epoch 75/100\n",
      "153/153 [==============================] - 0s 353us/step - loss: -3.2279 - acc: 0.7582 - val_loss: -3.8118 - val_acc: 0.7237\n",
      "Epoch 76/100\n",
      "153/153 [==============================] - 0s 282us/step - loss: -3.2772 - acc: 0.7582 - val_loss: -3.8618 - val_acc: 0.7237\n",
      "Epoch 77/100\n",
      "153/153 [==============================] - 0s 259us/step - loss: -3.3193 - acc: 0.7582 - val_loss: -3.9089 - val_acc: 0.7237\n",
      "Epoch 78/100\n",
      "153/153 [==============================] - 0s 298us/step - loss: -3.3646 - acc: 0.7582 - val_loss: -3.9704 - val_acc: 0.7237\n",
      "Epoch 79/100\n",
      "153/153 [==============================] - 0s 279us/step - loss: -3.4169 - acc: 0.7582 - val_loss: -4.0116 - val_acc: 0.7237\n",
      "Epoch 80/100\n",
      "153/153 [==============================] - 0s 295us/step - loss: -3.4561 - acc: 0.7582 - val_loss: -4.0503 - val_acc: 0.7237\n",
      "Epoch 81/100\n",
      "153/153 [==============================] - 0s 231us/step - loss: -3.4943 - acc: 0.7582 - val_loss: -4.0977 - val_acc: 0.7237\n",
      "Epoch 82/100\n",
      "153/153 [==============================] - 0s 304us/step - loss: -3.5469 - acc: 0.7582 - val_loss: -4.1432 - val_acc: 0.7237\n",
      "Epoch 83/100\n",
      "153/153 [==============================] - 0s 335us/step - loss: -3.5640 - acc: 0.7582 - val_loss: -4.1714 - val_acc: 0.7237\n",
      "Epoch 84/100\n",
      "153/153 [==============================] - 0s 267us/step - loss: -3.6116 - acc: 0.7582 - val_loss: -4.2148 - val_acc: 0.7237\n",
      "Epoch 85/100\n",
      "153/153 [==============================] - 0s 394us/step - loss: -3.6341 - acc: 0.7582 - val_loss: -4.2331 - val_acc: 0.7237\n",
      "Epoch 86/100\n",
      "153/153 [==============================] - 0s 282us/step - loss: -3.6570 - acc: 0.7582 - val_loss: -4.2589 - val_acc: 0.7237\n",
      "Epoch 87/100\n",
      "153/153 [==============================] - 0s 348us/step - loss: -3.6821 - acc: 0.7582 - val_loss: -4.2714 - val_acc: 0.7237\n",
      "Epoch 88/100\n",
      "153/153 [==============================] - 0s 313us/step - loss: -3.7004 - acc: 0.7582 - val_loss: -4.3020 - val_acc: 0.7237\n",
      "Epoch 89/100\n",
      "153/153 [==============================] - 0s 344us/step - loss: -3.7204 - acc: 0.7582 - val_loss: -4.3150 - val_acc: 0.7237\n",
      "Epoch 90/100\n",
      "153/153 [==============================] - 0s 291us/step - loss: -3.7357 - acc: 0.7582 - val_loss: -4.3275 - val_acc: 0.7237\n",
      "Epoch 91/100\n",
      "153/153 [==============================] - 0s 330us/step - loss: -3.7527 - acc: 0.7582 - val_loss: -4.3417 - val_acc: 0.7237\n",
      "Epoch 92/100\n",
      "153/153 [==============================] - 0s 280us/step - loss: -3.7648 - acc: 0.7582 - val_loss: -4.3489 - val_acc: 0.7237\n",
      "Epoch 93/100\n",
      "153/153 [==============================] - 0s 242us/step - loss: -3.7861 - acc: 0.7582 - val_loss: -4.3752 - val_acc: 0.7237\n",
      "Epoch 94/100\n",
      "153/153 [==============================] - 0s 308us/step - loss: -3.7887 - acc: 0.7582 - val_loss: -4.3786 - val_acc: 0.7237\n",
      "Epoch 95/100\n",
      "153/153 [==============================] - ETA: 0s - loss: -1.5942 - acc: 0.90 - 0s 292us/step - loss: -3.8020 - acc: 0.7582 - val_loss: -4.3778 - val_acc: 0.7237\n",
      "Epoch 96/100\n",
      "153/153 [==============================] - 0s 271us/step - loss: -3.8099 - acc: 0.7582 - val_loss: -4.3907 - val_acc: 0.7237\n",
      "Epoch 97/100\n",
      "153/153 [==============================] - 0s 331us/step - loss: -3.8238 - acc: 0.7582 - val_loss: -4.3931 - val_acc: 0.7237\n",
      "Epoch 98/100\n",
      "153/153 [==============================] - 0s 266us/step - loss: -3.8346 - acc: 0.7582 - val_loss: -4.3907 - val_acc: 0.7237\n",
      "Epoch 99/100\n",
      "153/153 [==============================] - 0s 316us/step - loss: -3.8482 - acc: 0.7582 - val_loss: -4.4051 - val_acc: 0.7237\n",
      "Epoch 100/100\n",
      "153/153 [==============================] - 0s 327us/step - loss: -3.8482 - acc: 0.7582 - val_loss: -4.3960 - val_acc: 0.7237\n",
      "0.7012987012987013\n",
      "dict_keys(['val_loss', 'val_acc', 'loss', 'acc'])\n"
     ]
    },
    {
     "data": {
      "image/png": "[encoded data removed]",
      "text/plain": [
       "<Figure size 432x288 with 1 Axes>"
      ]
     },
     "metadata": {
      "needs_background": "light"
     },
     "output_type": "display_data"
    },
    {
     "data": {
      "image/png": "[encoded data removed]",
      "text/plain": [
       "<Figure size 432x288 with 1 Axes>"
      ]
     },
     "metadata": {
      "needs_background": "light"
     },
     "output_type": "display_data"
    }
   ],
   "source": [
    "import pandas as pd\n",
    "import numpy as np\n",
    "import matplotlib.pyplot as plt\n",
    "from tensorflow.keras.models import Sequential\n",
    "from tensorflow.keras.layers import Dense, LSTM\n",
    "from sklearn.preprocessing import MinMaxScaler\n",
    "from sklearn import metrics\n",
    "\n",
    "data=pd.read_csv('data1.csv')\n",
    "\n",
    "x=data.iloc[:,0:3]\n",
    "y=data.iloc[:,-1]\n",
    "\n",
    "from sklearn.cross_validation import train_test_split\n",
    "X_train, X_test, y_train, y_test= train_test_split(x,y,test_size=0.25,random_state=20)\n",
    "\n",
    "from sklearn.preprocessing import StandardScaler\n",
    "sc=StandardScaler()\n",
    "X_train = sc.fit_transform(X_train)\n",
    "X_test = sc.transform(X_test)\n",
    "\n",
    "import keras\n",
    "from keras.models import Sequential\n",
    "from keras.layers import Dense\n",
    "from keras.layers import Dropout\n",
    "\n",
    "classifier = Sequential()\n",
    "classifier.add(Dense(output_dim = 6, activation='relu',input_dim = 3))\n",
    "classifier.add(Dense(output_dim = 6,activation='relu'))\n",
    "classifier.add(Dense(output_dim = 1, activation = 'sigmoid'))\n",
    "classifier.compile(optimizer = 'Adamax', loss = 'binary_crossentropy', metrics = ['accuracy'])\n",
    "model_history=classifier.fit(X_train, y_train,validation_split=0.33, batch_size = 10, nb_epoch = 100)\n",
    "\n",
    "# Predicting the Test set results\n",
    "y_pred = classifier.predict(X_test)\n",
    "y_pred = (y_pred > 0.5)\n",
    "\n",
    "# Making the Confusion Matrix\n",
    "from sklearn.metrics import confusion_matrix\n",
    "cm = confusion_matrix(y_test, y_pred)\n",
    "\n",
    "# Calculate the Accuracy\n",
    "from sklearn.metrics import accuracy_score\n",
    "score=accuracy_score(y_pred,y_test)\n",
    "\n",
    "print(score)\n",
    "\n",
    "print(model_history.history.keys())\n",
    "# summarize history for accuracy\n",
    "plt.plot(model_history.history['acc'])\n",
    "plt.plot(model_history.history['val_acc'])\n",
    "plt.title('model accuracy')\n",
    "plt.ylabel('accuracy')\n",
    "plt.xlabel('epoch')\n",
    "plt.legend(['train', 'test'], loc='upper left')\n",
    "plt.show()\n",
    "\n",
    "# summarize history for loss\n",
    "plt.plot(model_history.history['loss'])\n",
    "plt.plot(model_history.history['val_loss'])\n",
    "plt.title('model loss')\n",
    "plt.ylabel('loss')\n",
    "plt.xlabel('epoch')\n",
    "plt.legend(['train', 'test'], loc='upper left')\n",
    "plt.show()"
   ]
  },
  {
   "cell_type": "raw",
   "metadata": {},
   "source": [
    "#timeseriesdata.csv\n",
    "QUESTION-12\n",
    "(1)calculate the RootMeanSquareError(RMSE) for the timeseriesdata.csv using LinearRegression \n",
    "(2) calculate the RMSE for the timeseriesdata.csv using LSTM\n",
    "Note: consider \"date\" as the feature and \"close\" as the label.\n",
    "plot the closing price and predicted closing price for both the models with date as the x-axis and closing price as the y axis\n",
    "\n"
   ]
  },
  {
   "cell_type": "code",
   "execution_count": 19,
   "metadata": {},
   "outputs": [
    {
     "name": "stdout",
     "output_type": "stream",
     "text": [
      "0.8099163306707984\n"
     ]
    },
    {
     "data": {
      "text/plain": [
       "[<matplotlib.lines.Line2D at 0x1fa92882d68>]"
      ]
     },
     "execution_count": 19,
     "metadata": {},
     "output_type": "execute_result"
    },
    {
     "data": {
      "image/png": "[encoded data removed]",
      "text/plain": [
       "<Figure size 432x288 with 1 Axes>"
      ]
     },
     "metadata": {
      "needs_background": "light"
     },
     "output_type": "display_data"
    }
   ],
   "source": [
    "#Linear regression model\n",
    "\n",
    "import pandas as pd\n",
    "import numpy as np\n",
    "import matplotlib.pyplot as plt\n",
    "from tensorflow.keras.models import Sequential\n",
    "from tensorflow.keras.layers import Dense, LSTM\n",
    "from sklearn.preprocessing import MinMaxScaler\n",
    "from sklearn import metrics\n",
    "\n",
    "use_cols=['Date','Close']\n",
    "data2=pd.read_csv(\"timeseriesdata.csv\",usecols=use_cols)\n",
    "\n",
    "data2['date']= pd.to_datetime(data2.Date)\n",
    "\n",
    "data2['Year']=data2.date.dt.year\n",
    "data2['Month']=data2.date.dt.month\n",
    "data2['Day']=data2.date.dt.day\n",
    "\n",
    "data=data2.drop(['Date', 'date'], axis = 1) \n",
    "\n",
    "x=data.iloc[:,1:4]\n",
    "y=data.iloc[:,0:1]\n",
    "\n",
    "from sklearn.cross_validation import train_test_split\n",
    "X_train, X_test, y_train, y_test= train_test_split(x,y,test_size=.25,random_state=20)\n",
    "\n",
    "from sklearn.preprocessing import StandardScaler\n",
    "scaler = StandardScaler()\n",
    "scaler.fit(X_train)\n",
    "X_train= scaler.transform(X_train)\n",
    "scaler.fit(X_test)\n",
    "X_test = scaler.transform(X_test)\n",
    "scaler.fit(y_train)\n",
    "y_train= scaler.transform(y_train)\n",
    "scaler.fit(y_test)\n",
    "y_test = scaler.transform(y_test)\n",
    "\n",
    "from sklearn.linear_model import LinearRegression\n",
    "regressor = LinearRegression()\n",
    "regressor.fit(X_train, y_train)\n",
    "y_pred = regressor.predict(X_test)\n",
    "\n",
    "\n",
    "\n",
    "from sklearn import metrics\n",
    "print(np.sqrt(metrics.mean_squared_error(y_test, y_pred)))\n",
    "\n",
    "y_pred=scaler.inverse_transform(y_pred)\n",
    "y_test=scaler.inverse_transform(y_test)\n",
    "\n",
    "#plot\n",
    "plt.ylabel('close_price')\n",
    "plt.xlabel('date')\n",
    "plt.plot(data2['Date'],data2['Close'])\n",
    "\n",
    "\n",
    "\n",
    "\n"
   ]
  },
  {
   "cell_type": "raw",
   "metadata": {},
   "source": []
  },
  {
   "cell_type": "code",
   "execution_count": 20,
   "metadata": {},
   "outputs": [
    {
     "name": "stdout",
     "output_type": "stream",
     "text": [
      "Epoch 1/100\n",
      "1090/1090 [==============================] - 12s 11ms/step - loss: 0.0245\n",
      "Epoch 2/100\n",
      "1090/1090 [==============================] - 6s 6ms/step - loss: 0.0042\n",
      "Epoch 3/100\n",
      "1090/1090 [==============================] - 7s 6ms/step - loss: 0.0045\n",
      "Epoch 4/100\n",
      "1090/1090 [==============================] - 7s 6ms/step - loss: 0.0042A: 1s - l\n",
      "Epoch 5/100\n",
      "1090/1090 [==============================] - 7s 6ms/step - loss: 0.0036\n",
      "Epoch 6/100\n",
      "1090/1090 [==============================] - 7s 6ms/step - loss: 0.0040\n",
      "Epoch 7/100\n",
      "1090/1090 [==============================] - 6s 6ms/step - loss: 0.0034\n",
      "Epoch 8/100\n",
      "1090/1090 [==============================] - 6s 6ms/step - loss: 0.0038\n",
      "Epoch 9/100\n",
      "1090/1090 [==============================] - 6s 6ms/step - loss: 0.0032\n",
      "Epoch 10/100\n",
      "1090/1090 [==============================] - 6s 6ms/step - loss: 0.0028\n",
      "Epoch 11/100\n",
      "1090/1090 [==============================] - 6s 6ms/step - loss: 0.0029\n",
      "Epoch 12/100\n",
      "1090/1090 [==============================] - 6s 6ms/step - loss: 0.0029\n",
      "Epoch 13/100\n",
      "1090/1090 [==============================] - 6s 6ms/step - loss: 0.0033\n",
      "Epoch 14/100\n",
      "1090/1090 [==============================] - 6s 6ms/step - loss: 0.0029\n",
      "Epoch 15/100\n",
      "1090/1090 [==============================] - 6s 6ms/step - loss: 0.0028\n",
      "Epoch 16/100\n",
      "1090/1090 [==============================] - 6s 6ms/step - loss: 0.0024\n",
      "Epoch 17/100\n",
      "1090/1090 [==============================] - 6s 6ms/step - loss: 0.0024A: 1s - loss:\n",
      "Epoch 18/100\n",
      "1090/1090 [==============================] - 6s 6ms/step - loss: 0.0026\n",
      "Epoch 19/100\n",
      "1090/1090 [==============================] - 6s 6ms/step - loss: 0.0033\n",
      "Epoch 20/100\n",
      "1090/1090 [==============================] - 6s 6ms/step - loss: 0.0028\n",
      "Epoch 21/100\n",
      "1090/1090 [==============================] - 7s 6ms/step - loss: 0.0022\n",
      "Epoch 22/100\n",
      "1090/1090 [==============================] - 7s 6ms/step - loss: 0.0021\n",
      "Epoch 23/100\n",
      "1090/1090 [==============================] - 6s 6ms/step - loss: 0.0025\n",
      "Epoch 24/100\n",
      "1090/1090 [==============================] - 6s 6ms/step - loss: 0.0025A: 1s - l\n",
      "Epoch 25/100\n",
      "1090/1090 [==============================] - 6s 6ms/step - loss: 0.0026\n",
      "Epoch 26/100\n",
      "1090/1090 [==============================] - 6s 6ms/step - loss: 0.0021\n",
      "Epoch 27/100\n",
      "1090/1090 [==============================] - 6s 6ms/step - loss: 0.0025\n",
      "Epoch 28/100\n",
      "1090/1090 [==============================] - 6s 6ms/step - loss: 0.0021\n",
      "Epoch 29/100\n",
      "1090/1090 [==============================] - 6s 6ms/step - loss: 0.0022\n",
      "Epoch 30/100\n",
      "1090/1090 [==============================] - 6s 6ms/step - loss: 0.0021A: 2s -\n",
      "Epoch 31/100\n",
      "1090/1090 [==============================] - 6s 6ms/step - loss: 0.0021A: 2\n",
      "Epoch 32/100\n",
      "1090/1090 [==============================] - 6s 6ms/step - loss: 0.0019\n",
      "Epoch 33/100\n",
      "1090/1090 [==============================] - 6s 6ms/step - loss: 0.0019\n",
      "Epoch 34/100\n",
      "1090/1090 [==============================] - 6s 6ms/step - loss: 0.0019\n",
      "Epoch 35/100\n",
      "1090/1090 [==============================] - 6s 6ms/step - loss: 0.0017\n",
      "Epoch 36/100\n",
      "1090/1090 [==============================] - 6s 6ms/step - loss: 0.0018\n",
      "Epoch 37/100\n",
      "1090/1090 [==============================] - 6s 6ms/step - loss: 0.0018\n",
      "Epoch 38/100\n",
      "1090/1090 [==============================] - 6s 6ms/step - loss: 0.0016A: 1s - loss:\n",
      "Epoch 39/100\n",
      "1090/1090 [==============================] - 6s 6ms/step - loss: 0.0017A: 0s - loss: 0.001\n",
      "Epoch 40/100\n",
      "1090/1090 [==============================] - 6s 6ms/step - loss: 0.0015\n",
      "Epoch 41/100\n",
      "1090/1090 [==============================] - 6s 6ms/step - loss: 0.0016A: 2s\n",
      "Epoch 42/100\n",
      "1090/1090 [==============================] - 6s 6ms/step - loss: 0.0018\n",
      "Epoch 43/100\n",
      "1090/1090 [==============================] - 6s 6ms/step - loss: 0.0016\n",
      "Epoch 44/100\n",
      "1090/1090 [==============================] - 6s 6ms/step - loss: 0.0017\n",
      "Epoch 45/100\n",
      "1090/1090 [==============================] - 6s 6ms/step - loss: 0.0016\n",
      "Epoch 46/100\n",
      "1090/1090 [==============================] - 6s 6ms/step - loss: 0.0016\n",
      "Epoch 47/100\n",
      "1090/1090 [==============================] - 6s 6ms/step - loss: 0.0021\n",
      "Epoch 48/100\n",
      "1090/1090 [==============================] - 6s 6ms/step - loss: 0.0020A: 1s - lo\n",
      "Epoch 49/100\n",
      "1090/1090 [==============================] - 7s 6ms/step - loss: 0.0025\n",
      "Epoch 50/100\n",
      "1090/1090 [==============================] - 6s 6ms/step - loss: 0.0014\n",
      "Epoch 51/100\n",
      "1090/1090 [==============================] - 6s 6ms/step - loss: 0.0014A: 4 - ETA: 1s - lo\n",
      "Epoch 52/100\n",
      "1090/1090 [==============================] - 6s 6ms/step - loss: 0.0016\n",
      "Epoch 53/100\n",
      "1090/1090 [==============================] - 6s 6ms/step - loss: 0.0014\n",
      "Epoch 54/100\n",
      "1090/1090 [==============================] - 6s 6ms/step - loss: 0.0014\n",
      "Epoch 55/100\n",
      "1090/1090 [==============================] - 6s 6ms/step - loss: 0.0016\n",
      "Epoch 56/100\n",
      "1090/1090 [==============================] - 6s 6ms/step - loss: 0.0018\n",
      "Epoch 57/100\n",
      "1090/1090 [==============================] - 6s 6ms/step - loss: 0.0015\n",
      "Epoch 58/100\n",
      "1090/1090 [==============================] - 6s 6ms/step - loss: 0.0013\n",
      "Epoch 59/100\n",
      "1090/1090 [==============================] - 6s 6ms/step - loss: 0.0014A: \n",
      "Epoch 60/100\n",
      "1090/1090 [==============================] - 6s 6ms/step - loss: 0.0016\n",
      "Epoch 61/100\n",
      "1090/1090 [==============================] - 6s 6ms/step - loss: 0.0013\n",
      "Epoch 62/100\n",
      "1090/1090 [==============================] - 6s 6ms/step - loss: 0.0013A: 1s - loss:\n",
      "Epoch 63/100\n",
      "1090/1090 [==============================] - 6s 6ms/step - loss: 0.0013\n",
      "Epoch 64/100\n",
      "1090/1090 [==============================] - 6s 6ms/step - loss: 0.0012\n",
      "Epoch 65/100\n",
      "1090/1090 [==============================] - 6s 6ms/step - loss: 0.0013\n",
      "Epoch 66/100\n",
      "1090/1090 [==============================] - 7s 6ms/step - loss: 0.0013\n",
      "Epoch 67/100\n",
      "1090/1090 [==============================] - 6s 6ms/step - loss: 0.0012TA: 2\n",
      "Epoch 68/100\n",
      "1090/1090 [==============================] - 6s 6ms/step - loss: 0.0016\n",
      "Epoch 69/100\n",
      "1090/1090 [==============================] - 6s 6ms/step - loss: 0.0014\n",
      "Epoch 70/100\n",
      "1090/1090 [==============================] - 6s 6ms/step - loss: 0.0015\n",
      "Epoch 71/100\n",
      "1090/1090 [==============================] - 6s 6ms/step - loss: 0.0013\n",
      "Epoch 72/100\n",
      "1090/1090 [==============================] - 6s 6ms/step - loss: 0.0012\n",
      "Epoch 73/100\n",
      "1090/1090 [==============================] - 6s 6ms/step - loss: 0.0013A: 0s - loss: \n",
      "Epoch 74/100\n",
      "1090/1090 [==============================] - 6s 6ms/step - loss: 0.0014A: \n",
      "Epoch 75/100\n",
      "1090/1090 [==============================] - 6s 6ms/step - loss: 0.0013\n",
      "Epoch 76/100\n",
      "1090/1090 [==============================] - 6s 6ms/step - loss: 0.0012\n",
      "Epoch 77/100\n",
      "1090/1090 [==============================] - 6s 5ms/step - loss: 0.0013\n",
      "Epoch 78/100\n",
      "1090/1090 [==============================] - 6s 5ms/step - loss: 0.0013\n",
      "Epoch 79/100\n",
      "1090/1090 [==============================] - 6s 6ms/step - loss: 0.0013A: 2\n",
      "Epoch 80/100\n",
      "1090/1090 [==============================] - 6s 5ms/step - loss: 0.0012\n",
      "Epoch 81/100\n",
      "1090/1090 [==============================] - 6s 6ms/step - loss: 0.0013\n",
      "Epoch 82/100\n",
      "1090/1090 [==============================] - 6s 6ms/step - loss: 0.0014\n",
      "Epoch 83/100\n",
      "1090/1090 [==============================] - 6s 5ms/step - loss: 0.0013\n",
      "Epoch 84/100\n",
      "1090/1090 [==============================] - 6s 6ms/step - loss: 0.0012\n",
      "Epoch 85/100\n",
      "1090/1090 [==============================] - 6s 6ms/step - loss: 0.0012\n",
      "Epoch 86/100\n",
      "1090/1090 [==============================] - 6s 5ms/step - loss: 0.0014\n",
      "Epoch 87/100\n",
      "1090/1090 [==============================] - 6s 6ms/step - loss: 0.0013\n",
      "Epoch 88/100\n",
      "1090/1090 [==============================] - 6s 6ms/step - loss: 0.0013\n",
      "Epoch 89/100\n",
      "1090/1090 [==============================] - 6s 6ms/step - loss: 0.0011\n",
      "Epoch 90/100\n",
      "1090/1090 [==============================] - 6s 6ms/step - loss: 9.6869e-04\n",
      "Epoch 91/100\n",
      "1090/1090 [==============================] - 6s 6ms/step - loss: 0.0012\n",
      "Epoch 92/100\n",
      "1090/1090 [==============================] - 6s 6ms/step - loss: 0.0011\n",
      "Epoch 93/100\n",
      "1090/1090 [==============================] - 6s 6ms/step - loss: 0.0012\n",
      "Epoch 94/100\n",
      "1090/1090 [==============================] - 6s 6ms/step - loss: 0.0013\n",
      "Epoch 95/100\n",
      "1090/1090 [==============================] - 6s 5ms/step - loss: 0.0012\n",
      "Epoch 96/100\n",
      "1090/1090 [==============================] - 6s 6ms/step - loss: 0.0011\n",
      "Epoch 97/100\n",
      "1090/1090 [==============================] - 6s 6ms/step - loss: 0.0012\n",
      "Epoch 98/100\n",
      "1090/1090 [==============================] - 6s 5ms/step - loss: 9.7156e-04\n",
      "Epoch 99/100\n",
      "1090/1090 [==============================] - 6s 5ms/step - loss: 0.0012\n",
      "Epoch 100/100\n",
      "1090/1090 [==============================] - 6s 5ms/step - loss: 0.0012\n"
     ]
    },
    {
     "data": {
      "image/png": "[encoded data removed]",
      "text/plain": [
       "<Figure size 432x288 with 1 Axes>"
      ]
     },
     "metadata": {
      "needs_background": "light"
     },
     "output_type": "display_data"
    }
   ],
   "source": [
    "#LSTM Model(Q-12 part 2)\n",
    "\n",
    "# Importing the libraries\n",
    "import numpy as np\n",
    "import matplotlib.pyplot as plt\n",
    "import pandas as pd\n",
    "\n",
    "dataset_train = pd.read_csv('timeseriesdata.csv')\n",
    "training_set = dataset_train.iloc[:, 5:6].values\n",
    "\n",
    "from sklearn.preprocessing import MinMaxScaler\n",
    "sc = MinMaxScaler(feature_range = (0, 1))\n",
    "training_set_scaled = sc.fit_transform(training_set)\n",
    "\n",
    "# Creating a data structure with 60 timesteps and 1 output\n",
    "X_train = []\n",
    "y_train = []\n",
    "for i in range(60, 1150):\n",
    "    X_train.append(training_set_scaled[i-60:i, 0])\n",
    "    y_train.append(training_set_scaled[i, 0])\n",
    "X_train, y_train = np.array(X_train), np.array(y_train)\n",
    "\n",
    "# Reshaping\n",
    "X_train = np.reshape(X_train, (X_train.shape[0], X_train.shape[1], 1))\n",
    "\n",
    "#creating model\n",
    "\n",
    "from keras.models import Sequential\n",
    "from keras.layers import Dense\n",
    "from keras.layers import LSTM\n",
    "from keras.layers import Dropout\n",
    "\n",
    "regressor = Sequential()\n",
    "\n",
    "# Adding the first LSTM layer and some Dropout regularisation\n",
    "regressor.add(LSTM(units = 50, return_sequences = True, input_shape = (X_train.shape[1], 1)))\n",
    "regressor.add(Dropout(0.2))\n",
    "\n",
    "# Adding a second LSTM layer and some Dropout regularisation\n",
    "regressor.add(LSTM(units = 50, return_sequences = True))\n",
    "regressor.add(Dropout(0.2))\n",
    "\n",
    "# Adding a third LSTM layer and some Dropout regularisation\n",
    "regressor.add(LSTM(units = 50, return_sequences = True))\n",
    "regressor.add(Dropout(0.2))\n",
    "\n",
    "regressor.add(LSTM(units = 50))\n",
    "regressor.add(Dropout(0.2))\n",
    "regressor.add(Dense(units = 1))\n",
    "\n",
    "# Compiling the RNN\n",
    "regressor.compile(optimizer = 'adam', loss = 'mean_squared_error')\n",
    "\n",
    "# Fitting the RNN to the Training set\n",
    "regressor.fit(X_train, y_train, epochs = 100, batch_size = 32)\n",
    "\n",
    "#Testing data(here i made one excel file and copy the last few data from timeseriesdata.csv file for testing purpose)\n",
    "dataset_test = pd.read_excel('test_data.xlsx')\n",
    "real_closing_price = dataset_test.iloc[:, 5:6].values\n",
    "dataset_total = pd.concat((dataset_train['Close'], dataset_test['Close']), axis = 0)\n",
    "inputs = dataset_total[len(dataset_total) - len(dataset_test) - 60:].values\n",
    "inputs = inputs.reshape(-1,1)\n",
    "inputs = sc.transform(inputs)\n",
    "X_test = []\n",
    "for i in range(60, 80):\n",
    "    X_test.append(inputs[i-60:i, 0])\n",
    "X_test = np.array(X_test)\n",
    "X_test = np.reshape(X_test, (X_test.shape[0], X_test.shape[1], 1))\n",
    "predicted_stock_price = regressor.predict(X_test)\n",
    "predicted_stock_price = sc.inverse_transform(predicted_stock_price)\n",
    "\n",
    "# Visualising the results\n",
    "plt.plot(real_closing_price, color = 'red', label = 'Close_price')\n",
    "plt.plot(predicted_stock_price, color = 'blue', label = 'Predicted Closing_price')\n",
    "plt.title('Closing_price_prediction')\n",
    "\n",
    "plt.ylabel('Closing_price')\n",
    "plt.legend()\n",
    "plt.show()\n",
    "\n"
   ]
  },
  {
   "cell_type": "code",
   "execution_count": null,
   "metadata": {},
   "outputs": [],
   "source": []
  }
 ],
 "metadata": {
  "kernelspec": {
   "display_name": "Python 3",
   "language": "python",
   "name": "python3"
  },
  "language_info": {
   "codemirror_mode": {
    "name": "ipython",
    "version": 3
   },
   "file_extension": ".py",
   "mimetype": "text/x-python",
   "name": "python",
   "nbconvert_exporter": "python",
   "pygments_lexer": "ipython3",
   "version": "3.7.0"
  }
 },
 "nbformat": 4,
 "nbformat_minor": 2
}
